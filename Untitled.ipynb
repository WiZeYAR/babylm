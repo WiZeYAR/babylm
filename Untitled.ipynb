{
 "cells": [
  {
   "cell_type": "code",
   "execution_count": 1,
   "id": "514e4378-b821-4cdc-950d-e2428cb829a0",
   "metadata": {},
   "outputs": [],
   "source": [
    "from data import download_raw\n",
    "from zipfile import ZipFile\n",
    "from pathlib import Path"
   ]
  },
  {
   "cell_type": "code",
   "execution_count": 2,
   "id": "0ea2c1f0-906f-4ccc-86cc-11090086b37c",
   "metadata": {},
   "outputs": [
    {
     "data": {
      "application/vnd.jupyter.widget-view+json": {
       "model_id": "d7b2b7283d354e6998fd4e91c4a65990",
       "version_major": 2,
       "version_minor": 0
      },
      "text/plain": [
       "Downloading raw data:   0%|          | 0.00/253M [00:00<?, ?B/s]"
      ]
     },
     "metadata": {},
     "output_type": "display_data"
    },
    {
     "data": {
      "text/plain": [
       "{'train': [PosixPath('data/raw/babylm_data/babylm_100M/open_subtitles.train'),\n",
       "  PosixPath('data/raw/babylm_data/babylm_100M/qed.train'),\n",
       "  PosixPath('data/raw/babylm_data/babylm_100M/bnc_spoken.train'),\n",
       "  PosixPath('data/raw/babylm_data/babylm_100M/wikipedia.train'),\n",
       "  PosixPath('data/raw/babylm_data/babylm_100M/gutenberg.train'),\n",
       "  PosixPath('data/raw/babylm_data/babylm_100M/aochildes.train'),\n",
       "  PosixPath('data/raw/babylm_data/babylm_100M/simple_wikipedia.train'),\n",
       "  PosixPath('data/raw/babylm_data/babylm_100M/children_stories.train'),\n",
       "  PosixPath('data/raw/babylm_data/babylm_100M/cbt.train'),\n",
       "  PosixPath('data/raw/babylm_data/babylm_100M/switchboard.train'),\n",
       "  PosixPath('data/raw/babylm_data/babylm_10M/open_subtitles.train'),\n",
       "  PosixPath('data/raw/babylm_data/babylm_10M/qed.train'),\n",
       "  PosixPath('data/raw/babylm_data/babylm_10M/bnc_spoken.train'),\n",
       "  PosixPath('data/raw/babylm_data/babylm_10M/wikipedia.train'),\n",
       "  PosixPath('data/raw/babylm_data/babylm_10M/gutenberg.train'),\n",
       "  PosixPath('data/raw/babylm_data/babylm_10M/aochildes.train'),\n",
       "  PosixPath('data/raw/babylm_data/babylm_10M/simple_wikipedia.train'),\n",
       "  PosixPath('data/raw/babylm_data/babylm_10M/children_stories.train'),\n",
       "  PosixPath('data/raw/babylm_data/babylm_10M/cbt.train'),\n",
       "  PosixPath('data/raw/babylm_data/babylm_10M/switchboard.train')],\n",
       " 'dev': [PosixPath('data/raw/babylm_data/babylm_dev/simple_wikipedia.dev'),\n",
       "  PosixPath('data/raw/babylm_data/babylm_dev/switchboard.dev'),\n",
       "  PosixPath('data/raw/babylm_data/babylm_dev/qed.dev'),\n",
       "  PosixPath('data/raw/babylm_data/babylm_dev/open_subtitles.dev'),\n",
       "  PosixPath('data/raw/babylm_data/babylm_dev/gutenberg.dev'),\n",
       "  PosixPath('data/raw/babylm_data/babylm_dev/wikipedia.dev'),\n",
       "  PosixPath('data/raw/babylm_data/babylm_dev/aochildes.dev'),\n",
       "  PosixPath('data/raw/babylm_data/babylm_dev/cbt.dev'),\n",
       "  PosixPath('data/raw/babylm_data/babylm_dev/children_stories.dev'),\n",
       "  PosixPath('data/raw/babylm_data/babylm_dev/bnc_spoken.dev')],\n",
       " 'test': [PosixPath('data/raw/babylm_data/babylm_test/wikipedia.test'),\n",
       "  PosixPath('data/raw/babylm_data/babylm_test/qed.test'),\n",
       "  PosixPath('data/raw/babylm_data/babylm_test/switchboard.test'),\n",
       "  PosixPath('data/raw/babylm_data/babylm_test/aochildes.test'),\n",
       "  PosixPath('data/raw/babylm_data/babylm_test/bnc_spoken.test'),\n",
       "  PosixPath('data/raw/babylm_data/babylm_test/gutenberg.test'),\n",
       "  PosixPath('data/raw/babylm_data/babylm_test/cbt.test'),\n",
       "  PosixPath('data/raw/babylm_data/babylm_test/open_subtitles.test'),\n",
       "  PosixPath('data/raw/babylm_data/babylm_test/children_stories.test'),\n",
       "  PosixPath('data/raw/babylm_data/babylm_test/simple_wikipedia.test')]}"
      ]
     },
     "execution_count": 2,
     "metadata": {},
     "output_type": "execute_result"
    }
   ],
   "source": [
    "download_raw()"
   ]
  }
 ],
 "metadata": {
  "kernelspec": {
   "display_name": "Python 3 (ipykernel)",
   "language": "python",
   "name": "python3"
  },
  "language_info": {
   "codemirror_mode": {
    "name": "ipython",
    "version": 3
   },
   "file_extension": ".py",
   "mimetype": "text/x-python",
   "name": "python",
   "nbconvert_exporter": "python",
   "pygments_lexer": "ipython3",
   "version": "3.11.4"
  }
 },
 "nbformat": 4,
 "nbformat_minor": 5
}

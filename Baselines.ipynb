{
 "cells": [
  {
   "cell_type": "code",
   "execution_count": 15,
   "id": "b4e714f7-599f-4dc0-983a-81a6531dfc59",
   "metadata": {
    "editable": true,
    "slideshow": {
     "slide_type": ""
    },
    "tags": []
   },
   "outputs": [],
   "source": [
    "from pathlib import Path\n",
    "from tokenizers import ByteLevelBPETokenizer\n",
    "from tokenizers.processors import BertProcessing"
   ]
  },
  {
   "cell_type": "markdown",
   "id": "8b5ec202-5fd1-4fec-af5d-950907fb743c",
   "metadata": {},
   "source": [
    "# Create tokenizer"
   ]
  },
  {
   "cell_type": "code",
   "execution_count": 16,
   "id": "c2489541-2803-4a18-9ce7-e03e3c9d039a",
   "metadata": {},
   "outputs": [
    {
     "data": {
      "text/plain": [
       "['data/raw/aochildes.train',\n",
       " 'data/raw/bnc_spoken.train',\n",
       " 'data/raw/cbt.train',\n",
       " 'data/raw/children_stories.train',\n",
       " 'data/raw/gutenberg.train',\n",
       " 'data/raw/open_subtitles.train',\n",
       " 'data/raw/qed.train',\n",
       " 'data/raw/simple_wikipedia.train',\n",
       " 'data/raw/switchboard.train',\n",
       " 'data/raw/wikipedia.train']"
      ]
     },
     "execution_count": 16,
     "metadata": {},
     "output_type": "execute_result"
    }
   ],
   "source": [
    "paths = sorted(str(x) for x in Path(\"./data/raw\").glob(\"**/*.train\"))\n",
    "paths"
   ]
  },
  {
   "cell_type": "code",
   "execution_count": 17,
   "id": "5d8a5c95-f5b5-43d1-a95d-d6f05059a445",
   "metadata": {},
   "outputs": [],
   "source": [
    "vocab_size=5000\n",
    "\n",
    "tokenizer = ByteLevelBPETokenizer() # Byte-level byte-pair tokenizer.\n",
    "tokenizer.train(\n",
    "    files=paths,\n",
    "    vocab_size=5000,\n",
    "    min_frequency=3,\n",
    "    special_tokens=[\n",
    "        \"<s>\",\n",
    "        \"<pad>\",\n",
    "        \"</s>\",\n",
    "        \"<unk>\",\n",
    "        \"<mask>\",\n",
    "    ],\n",
    ")"
   ]
  },
  {
   "cell_type": "code",
   "execution_count": 18,
   "id": "43e7ef39-48d0-4eb9-a171-4f4416241ed3",
   "metadata": {},
   "outputs": [
    {
     "data": {
      "text/plain": [
       "['./artifacts/vocab.json', './artifacts/merges.txt']"
      ]
     },
     "execution_count": 18,
     "metadata": {},
     "output_type": "execute_result"
    }
   ],
   "source": [
    "# tokenizer.save_model(\"./artifacts\", \"babylm\")\n",
    "tokenizer.save_model(\"./artifacts\")"
   ]
  },
  {
   "cell_type": "markdown",
   "id": "4185be88-789d-443b-8bd8-ed2fcd35c0a7",
   "metadata": {},
   "source": [
    "# Load tokenizer"
   ]
  },
  {
   "cell_type": "code",
   "execution_count": 19,
   "id": "08e3d279-585b-4d47-bc3a-b881e3220cd3",
   "metadata": {},
   "outputs": [],
   "source": [
    "tokenizer = ByteLevelBPETokenizer(\n",
    "    \"./artifacts/vocab.json\",\n",
    "    \"./artifacts/merges.txt\",\n",
    ")\n",
    "tokenizer._tokenizer.post_processor = BertProcessing(\n",
    "    (\"</s>\", tokenizer.token_to_id(\"</s>\")),\n",
    "    (\"<s>\", tokenizer.token_to_id(\"<s>\")),\n",
    ")"
   ]
  },
  {
   "cell_type": "code",
   "execution_count": 20,
   "id": "a7a9568a-1773-4425-ac75-e201049f5ce8",
   "metadata": {},
   "outputs": [],
   "source": [
    "from transformers import RobertaTokenizerFast\n",
    "\n",
    "tokenizer = RobertaTokenizerFast.from_pretrained(\"./artifacts\")"
   ]
  },
  {
   "cell_type": "code",
   "execution_count": 21,
   "id": "65fc3569-4e74-4205-a3f9-16d9c1a69d13",
   "metadata": {},
   "outputs": [
    {
     "name": "stderr",
     "output_type": "stream",
     "text": [
      "/Library/Frameworks/Python.framework/Versions/3.8/lib/python3.8/site-packages/transformers/data/datasets/language_modeling.py:119: FutureWarning: This dataset will be removed from the library soon, preprocessing should be handled with the 🤗 Datasets library. You can have a look at this example script for pointers: https://github.com/huggingface/transformers/blob/main/examples/pytorch/language-modeling/run_mlm.py\n",
      "  warnings.warn(\n"
     ]
    }
   ],
   "source": [
    "from transformers import LineByLineTextDataset\n",
    "\n",
    "dataset = LineByLineTextDataset(\n",
    "    tokenizer=tokenizer,\n",
    "    file_path=paths[8],\n",
    "    block_size=128,\n",
    ")"
   ]
  },
  {
   "cell_type": "code",
   "execution_count": 22,
   "id": "234f2a31-efd2-4be2-ad25-f24def487144",
   "metadata": {},
   "outputs": [],
   "source": [
    "from transformers import DataCollatorForLanguageModeling\n",
    "\n",
    "data_collator = DataCollatorForLanguageModeling(\n",
    "    tokenizer=tokenizer, mlm=True, mlm_probability=0.15\n",
    ")"
   ]
  },
  {
   "cell_type": "code",
   "execution_count": 23,
   "id": "b84a56ac-3db1-4c07-bc31-a3c71443231b",
   "metadata": {},
   "outputs": [],
   "source": [
    "from transformers import RobertaConfig\n",
    "\n",
    "config = RobertaConfig(\n",
    "    vocab_size=vocab_size,\n",
    "    max_position_embeddings=514,\n",
    "    num_attention_heads=12,\n",
    "    num_hidden_layers=6,\n",
    "    type_vocab_size=1,\n",
    ")"
   ]
  },
  {
   "cell_type": "code",
   "execution_count": 24,
   "id": "1bdb8a82-34bf-4889-ad54-cc3a88385da4",
   "metadata": {},
   "outputs": [],
   "source": [
    "from transformers import RobertaForMaskedLM\n",
    "\n",
    "model = RobertaForMaskedLM(config=config)"
   ]
  },
  {
   "cell_type": "code",
   "execution_count": 25,
   "id": "debc2982-ba16-4f0b-8641-d0886b1cb3e6",
   "metadata": {},
   "outputs": [
    {
     "name": "stderr",
     "output_type": "stream",
     "text": [
      "Using deprecated `--per_gpu_train_batch_size` argument which will be removed in a future version. Using `--per_device_train_batch_size` is preferred.\n"
     ]
    }
   ],
   "source": [
    "from transformers import Trainer, TrainingArguments\n",
    "\n",
    "training_args = TrainingArguments(\n",
    "    output_dir=\"./BabyLM\",\n",
    "    overwrite_output_dir=True,\n",
    "    num_train_epochs=1,\n",
    "    per_gpu_train_batch_size=64,\n",
    "    save_steps=10_000,\n",
    "    save_total_limit=2,\n",
    "    prediction_loss_only=True,\n",
    ")\n",
    "\n",
    "trainer = Trainer(\n",
    "    model=model,\n",
    "    args=training_args,\n",
    "    data_collator=data_collator,\n",
    "    train_dataset=dataset,\n",
    ")"
   ]
  },
  {
   "cell_type": "code",
   "execution_count": 26,
   "id": "2f42bcc6-e046-4b4a-b2cb-af693a0fbd02",
   "metadata": {},
   "outputs": [],
   "source": [
    "# trainer.train()"
   ]
  },
  {
   "cell_type": "markdown",
   "id": "db98cc4c-2d03-43f6-a4d0-effb2d9e3ea7",
   "metadata": {},
   "source": [
    "## TODOS:\n",
    "- [x] Baselines\n",
    "- [ ] Integrate evaluation pipeline with baselines\n",
    "- [ ] Find way to put any torch model into the eval pipeline\n",
    "- [ ] Gather all possible hyperparameters from the pipeline\n",
    "- [ ] Integrate with Ray Tune"
   ]
  }
 ],
 "metadata": {
  "kernelspec": {
   "display_name": "Python 3 (ipykernel)",
   "language": "python",
   "name": "python3"
  },
  "language_info": {
   "codemirror_mode": {
    "name": "ipython",
    "version": 3
   },
   "file_extension": ".py",
   "mimetype": "text/x-python",
   "name": "python",
   "nbconvert_exporter": "python",
   "pygments_lexer": "ipython3",
   "version": "3.8.5"
  }
 },
 "nbformat": 4,
 "nbformat_minor": 5
}

{
 "cells": [
  {
   "cell_type": "code",
   "execution_count": null,
   "id": "b4e714f7-599f-4dc0-983a-81a6531dfc59",
   "metadata": {},
   "outputs": [],
   "source": [
    "from pathlib import Path\n",
    "from tokenizers import ByteLevelBPETokenizer\n",
    "from tokenizers.processors import BertProcessing"
   ]
  },
  {
   "attachments": {},
   "cell_type": "markdown",
   "id": "8b5ec202-5fd1-4fec-af5d-950907fb743c",
   "metadata": {},
   "source": [
    "# Create tokenizer"
   ]
  },
  {
   "cell_type": "code",
   "execution_count": null,
   "id": "c2489541-2803-4a18-9ce7-e03e3c9d039a",
   "metadata": {},
   "outputs": [],
   "source": [
    "paths = [str(x) for x in Path(\"./data/raw\").glob(\"**/*.train\")]\n",
    "paths"
   ]
  },
  {
   "cell_type": "code",
   "execution_count": null,
   "id": "5d8a5c95-f5b5-43d1-a95d-d6f05059a445",
   "metadata": {},
   "outputs": [],
   "source": [
    "tokenizer = ByteLevelBPETokenizer()\n",
    "tokenizer.train(\n",
    "    files=paths,\n",
    "    vocab_size=5000,\n",
    "    min_frequency=2,\n",
    "    special_tokens=[\n",
    "        \"<s>\",\n",
    "        \"<pad>\",\n",
    "        \"</s>\",\n",
    "        \"<unk>\",\n",
    "        \"<mask>\",\n",
    "    ],\n",
    ")"
   ]
  },
  {
   "cell_type": "code",
   "execution_count": null,
   "id": "43e7ef39-48d0-4eb9-a171-4f4416241ed3",
   "metadata": {},
   "outputs": [],
   "source": [
    "tokenizer.save_model(\"./artifacts\", \"babylm\")"
   ]
  },
  {
   "attachments": {},
   "cell_type": "markdown",
   "id": "4185be88-789d-443b-8bd8-ed2fcd35c0a7",
   "metadata": {},
   "source": [
    "# Load tokenizer"
   ]
  },
  {
   "cell_type": "code",
   "execution_count": null,
   "id": "08e3d279-585b-4d47-bc3a-b881e3220cd3",
   "metadata": {},
   "outputs": [],
   "source": [
    "tokenizer = ByteLevelBPETokenizer(\n",
    "    \"./artifacts/babylm-vocab.json\",\n",
    "    \"./artifacts/babylm-merges.txt\",\n",
    ")\n",
    "tokenizer._tokenizer.post_processor = BertProcessing(\n",
    "    (\"</s>\", tokenizer.token_to_id(\"</s>\")),\n",
    "    (\"<s>\", tokenizer.token_to_id(\"<s>\")),\n",
    ")"
   ]
  },
  {
   "cell_type": "code",
   "execution_count": null,
   "id": "13e97445-8caf-431a-ad67-239e48481786",
   "metadata": {},
   "outputs": [],
   "source": [
    "tokenizer.encode(\" a  a\").ids"
   ]
  },
  {
   "cell_type": "code",
   "execution_count": null,
   "id": "410a96ed-d86c-4492-80e6-22cb6f81cf0c",
   "metadata": {},
   "outputs": [],
   "source": [
    "tokenizer.encode(\" a  a\").tokens"
   ]
  },
  {
   "cell_type": "code",
   "execution_count": null,
   "id": "a7a9568a-1773-4425-ac75-e201049f5ce8",
   "metadata": {},
   "outputs": [],
   "source": [
    "from transformers import RobertaTokenizerFast\n",
    "\n",
    "tokenizer = RobertaTokenizerFast.from_pretrained(\"./artifacts\")"
   ]
  },
  {
   "cell_type": "code",
   "execution_count": null,
   "id": "692fbd6f-f975-4317-8ddf-1f156bac6be7",
   "metadata": {},
   "outputs": [],
   "source": [
    "tokenizer(\"Hello world\")[\"input_ids\"]"
   ]
  },
  {
   "cell_type": "code",
   "execution_count": null,
   "id": "65fc3569-4e74-4205-a3f9-16d9c1a69d13",
   "metadata": {},
   "outputs": [],
   "source": [
    "from transformers import LineByLineTextDataset\n",
    "\n",
    "dataset = LineByLineTextDataset(\n",
    "    tokenizer=tokenizer,\n",
    "    file_path=paths[0],\n",
    "    block_size=128,\n",
    ")"
   ]
  },
  {
   "cell_type": "code",
   "execution_count": null,
   "id": "debc2982-ba16-4f0b-8641-d0886b1cb3e6",
   "metadata": {},
   "outputs": [],
   "source": [
    "from transformers import DataCollatorForLanguageModeling\n",
    "\n",
    "data_collator = DataCollatorForLanguageModeling(\n",
    "    tokenizer=tokenizer, mlm=True, mlm_probability=0.15\n",
    ")\n",
    "\n",
    "from transformers import Trainer, TrainingArguments\n",
    "\n",
    "training_args = TrainingArguments(\n",
    "    output_dir=\"./BabyLM\",\n",
    "    overwrite_output_dir=True,\n",
    "    num_train_epochs=1,\n",
    "    per_gpu_train_batch_size=64,\n",
    "    save_steps=10_000,\n",
    "    save_total_limit=2,\n",
    "    prediction_loss_only=True,\n",
    ")\n",
    "\n",
    "trainer = Trainer(\n",
    "    model=model,\n",
    "    args=training_args,\n",
    "    data_collator=data_collator,\n",
    "    train_dataset=dataset,\n",
    ")"
   ]
  }
 ],
 "metadata": {
  "kernelspec": {
   "display_name": "Python 3 (ipykernel)",
   "language": "python",
   "name": "python3"
  },
  "language_info": {
   "codemirror_mode": {
    "name": "ipython",
    "version": 3
   },
   "file_extension": ".py",
   "mimetype": "text/x-python",
   "name": "python",
   "nbconvert_exporter": "python",
   "pygments_lexer": "ipython3",
   "version": "3.11.4"
  }
 },
 "nbformat": 4,
 "nbformat_minor": 5
}
